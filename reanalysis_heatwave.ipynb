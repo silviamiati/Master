{
  "cells": [
    {
      "cell_type": "markdown",
      "metadata": {
        "id": "shZyUD_7DAv0"
      },
      "source": [
        "![logo](https://github.com/ecmwf-projects/copernicus-training-c3s/blob/main/img/LogoLine_horizon_C3S.png?raw=1)"
      ]
    },
    {
      "cell_type": "markdown",
      "metadata": {
        "id": "xiE-_aD8DAv7"
      },
      "source": [
        "<br>"
      ]
    },
    {
      "cell_type": "markdown",
      "metadata": {
        "id": "UQdGEhsRDAv9"
      },
      "source": [
        "# Analysis of September 2020 European Heatwave using ERA5 Climate Reanalysis Data from C3S\n",
        "\n",
        "In September 2020, a record-breaking heatwave occured in large parts of western Europe, ([see a description here](https://climate.copernicus.eu/september-brings-record-breaking-warm-temperatures-and-low-sea-ice)). The city of Lille in northern France for example experienced its hottest day in September 2020 since records began in 1945. In this tutorial we will analyse this event with data from the Climate Data Store (CDS) of the Copernicus Climate Change Service (C3S).\n",
        "\n",
        "The tutorial comprises the following steps:\n",
        "\n",
        "1. Search, download and view data\n",
        "2. View daily maximum 2m temperature for September 2020\n",
        "3. Compare maximum temperatures with climatology"
      ]
    },
    {
      "cell_type": "markdown",
      "metadata": {
        "id": "ve_kxn_7DAwA"
      },
      "source": [
        "![logo](https://github.com/ecmwf-projects/copernicus-training-c3s/blob/main/img/Temp_records_banner.png?raw=1)"
      ]
    },
    {
      "cell_type": "markdown",
      "metadata": {
        "id": "jSBAcnXxDAwB"
      },
      "source": [
        "<style>\n",
        "td, th {\n",
        "   border: 1px solid white;\n",
        "   border-collapse: collapse;\n",
        "}\n",
        "</style>\n",
        "<table align=\"left\">\n",
        "  <tr>\n",
        "    <th>Run the tutorial via free cloud platforms: </th>\n",
        "    <th><a href=\"https://mybinder.org/v2/gh/ecmwf-projects/copernicus-training-c3s/main?labpath=reanalysis-heatwave.ipynb\">\n",
        "        <img src = \"https://mybinder.org/badge.svg\" alt = \"Binder\"></th>\n",
        "    <th><a href=\"https://kaggle.com/kernels/welcome?src=https://github.com/ecmwf-projects/copernicus-training-c3s/blob/main/reanalysis-heatwave.ipynb\">\n",
        "        <img src = \"https://kaggle.com/static/images/open-in-kaggle.svg\" alt = \"Kaggle\"></th>\n",
        "    <th><a href=\"https://colab.research.google.com/github/ecmwf-projects/copernicus-training-c3s/blob/main/reanalysis-heatwave.ipynb\">\n",
        "        <img src = \"https://colab.research.google.com/assets/colab-badge.svg\" alt = \"Colab\"></th>\n",
        "  </tr>\n",
        "</table>"
      ]
    },
    {
      "cell_type": "markdown",
      "metadata": {
        "id": "KbuWapfJDAwE"
      },
      "source": [
        "<br>"
      ]
    },
    {
      "cell_type": "markdown",
      "metadata": {
        "id": "1JK8Mxr_DAwH"
      },
      "source": [
        "## Search, download and view data\n",
        "\n",
        "Before we begin we must prepare our environment. This includes installing the Application Programming Interface (API) of the CDS, and importing the various python libraries that we will need.\n",
        "\n",
        "#### Install CDS API\n",
        "\n",
        "To install the CDS API, run the following command. We use an exclamation mark to pass the command to the shell (not to the Python interpreter)."
      ]
    },
    {
      "cell_type": "code",
      "execution_count": 4,
      "metadata": {
        "id": "f8fyXI7hDAwI",
        "outputId": "ddb09678-3655-48b3-d30a-20799acd5bcc",
        "colab": {
          "base_uri": "https://localhost:8080/"
        }
      },
      "outputs": [
        {
          "output_type": "stream",
          "name": "stdout",
          "text": [
            "Collecting cartopy\n",
            "  Downloading cartopy-0.25.0-cp312-cp312-manylinux_2_24_x86_64.manylinux_2_28_x86_64.whl.metadata (6.1 kB)\n",
            "Requirement already satisfied: numpy>=1.23 in /usr/local/lib/python3.12/dist-packages (from cartopy) (2.0.2)\n",
            "Requirement already satisfied: matplotlib>=3.6 in /usr/local/lib/python3.12/dist-packages (from cartopy) (3.10.0)\n",
            "Requirement already satisfied: shapely>=2.0 in /usr/local/lib/python3.12/dist-packages (from cartopy) (2.1.2)\n",
            "Requirement already satisfied: packaging>=21 in /usr/local/lib/python3.12/dist-packages (from cartopy) (25.0)\n",
            "Requirement already satisfied: pyshp>=2.3 in /usr/local/lib/python3.12/dist-packages (from cartopy) (2.3.1)\n",
            "Requirement already satisfied: pyproj>=3.3.1 in /usr/local/lib/python3.12/dist-packages (from cartopy) (3.7.2)\n",
            "Requirement already satisfied: contourpy>=1.0.1 in /usr/local/lib/python3.12/dist-packages (from matplotlib>=3.6->cartopy) (1.3.3)\n",
            "Requirement already satisfied: cycler>=0.10 in /usr/local/lib/python3.12/dist-packages (from matplotlib>=3.6->cartopy) (0.12.1)\n",
            "Requirement already satisfied: fonttools>=4.22.0 in /usr/local/lib/python3.12/dist-packages (from matplotlib>=3.6->cartopy) (4.60.1)\n",
            "Requirement already satisfied: kiwisolver>=1.3.1 in /usr/local/lib/python3.12/dist-packages (from matplotlib>=3.6->cartopy) (1.4.9)\n",
            "Requirement already satisfied: pillow>=8 in /usr/local/lib/python3.12/dist-packages (from matplotlib>=3.6->cartopy) (11.3.0)\n",
            "Requirement already satisfied: pyparsing>=2.3.1 in /usr/local/lib/python3.12/dist-packages (from matplotlib>=3.6->cartopy) (3.2.5)\n",
            "Requirement already satisfied: python-dateutil>=2.7 in /usr/local/lib/python3.12/dist-packages (from matplotlib>=3.6->cartopy) (2.9.0.post0)\n",
            "Requirement already satisfied: certifi in /usr/local/lib/python3.12/dist-packages (from pyproj>=3.3.1->cartopy) (2025.8.3)\n",
            "Requirement already satisfied: six>=1.5 in /usr/local/lib/python3.12/dist-packages (from python-dateutil>=2.7->matplotlib>=3.6->cartopy) (1.17.0)\n",
            "Downloading cartopy-0.25.0-cp312-cp312-manylinux_2_24_x86_64.manylinux_2_28_x86_64.whl (11.8 MB)\n",
            "\u001b[2K   \u001b[90m━━━━━━━━━━━━━━━━━━━━━━━━━━━━━━━━━━━━━━━━\u001b[0m \u001b[32m11.8/11.8 MB\u001b[0m \u001b[31m85.5 MB/s\u001b[0m eta \u001b[36m0:00:00\u001b[0m\n",
            "\u001b[?25hInstalling collected packages: cartopy\n",
            "Successfully installed cartopy-0.25.0\n"
          ]
        }
      ],
      "source": [
        "!pip install cartopy"
      ]
    },
    {
      "cell_type": "markdown",
      "metadata": {
        "id": "cOqPSgG3DAwM"
      },
      "source": [
        "#### Import libraries\n",
        "\n",
        "We will be working with data in NetCDF format. To best handle this data we will use libraries for working with multidimensional arrays, in particular Xarray. We will also need libraries for plotting and viewing data, in this case we will use Matplotlib and Cartopy."
      ]
    },
    {
      "cell_type": "code",
      "execution_count": 5,
      "metadata": {
        "id": "IszWLmcBDAwO"
      },
      "outputs": [],
      "source": [
        "# CDS API\n",
        "import cdsapi\n",
        "\n",
        "# Libraries for working with multidimensional arrays\n",
        "import numpy as np\n",
        "import xarray as xr\n",
        "\n",
        "# Libraries for plotting and visualising data\n",
        "import matplotlib.path as mpath\n",
        "import matplotlib.pyplot as plt\n",
        "import cartopy.crs as ccrs\n",
        "from cartopy.mpl.gridliner import LONGITUDE_FORMATTER, LATITUDE_FORMATTER\n",
        "import cartopy.feature as cfeature\n",
        "\n",
        "# Disable warnings for data download via API\n",
        "import urllib3\n",
        "urllib3.disable_warnings()"
      ]
    },
    {
      "cell_type": "markdown",
      "metadata": {
        "id": "dS9EbwWBDAwP"
      },
      "source": [
        "#### Enter your CDS API key\n",
        "\n",
        "We will request data from the Climate Data Store (CDS) programmatically with the help of the CDS API. Let us make use of the option to manually set the CDS API credentials. First, you have to define two variables: `URL` and `KEY` which build together your CDS API key. The string of characters that make up your KEY include your personal User ID and CDS API key. To obtain these, first register or login to the CDS (https://cds.climate.copernicus.eu), then visit https://cds.climate.copernicus.eu/how-to-api and copy the string of characters listed after \"key:\". Replace the `#########` below with this string."
      ]
    },
    {
      "cell_type": "code",
      "execution_count": 7,
      "metadata": {
        "id": "25Y-frQ5DAwR"
      },
      "outputs": [],
      "source": [
        "URL = 'https://cds.climate.copernicus.eu/api'\n",
        "KEY = '78f20dcf-877b-4764-b91a-54509980fee2'"
      ]
    },
    {
      "cell_type": "markdown",
      "metadata": {
        "id": "hiwngwuFDAwT"
      },
      "source": [
        "Here we specify a data directory in which we will download our data and all output files that we will generate:"
      ]
    },
    {
      "cell_type": "code",
      "execution_count": 8,
      "metadata": {
        "id": "ORYPjyfHDAwT"
      },
      "outputs": [],
      "source": [
        "DATADIR = './'"
      ]
    },
    {
      "cell_type": "markdown",
      "metadata": {
        "id": "xB58ehABDAwV"
      },
      "source": [
        "#### Search for data\n",
        "\n",
        "To search for data, visit the CDS website: https://cds.climate.copernicus.eu. To facilitate your search you can use keywords, or apply various filters. The data we are going to use in this exercise is the `ERA5 reanalysis data on single levels from 1979 to present`."
      ]
    },
    {
      "cell_type": "markdown",
      "metadata": {
        "id": "D0rqu81RDAwV"
      },
      "source": [
        "Having selected the correct dataset, we now need to specify what product type, variables, temporal and geographic coverage we are interested in. These can all be selected in the **\"Download data\"** tab. In this tab a form appears in which we will select the following parameters to download. We will choose a subset area of 1x1 degrees, corresponding to a region of around 111km North/South and 72km East/West in Belgium and Northern France, around the city of Lille:\n",
        "\n",
        "- Product type: `Reanalysis`\n",
        "- Variable: `2m temperature`\n",
        "- Year: `all`\n",
        "- Month: `September`\n",
        "- Day: `all`\n",
        "- Time: `all`\n",
        "- Geographical area: `North: 51`, `East: 4`, `South: 50`, `West: 3`\n",
        "- Format: `NetCDF`\n",
        "\n",
        "![logo](https://github.com/ecmwf-projects/copernicus-training-c3s/blob/main/img/Notebook3_data.png?raw=1)\n",
        "\n",
        "At the end of the download form, select **\"Show API request\"**. This will reveal a block of code, which you can simply copy and paste into a cell of your Jupyter Notebook (see cell below) ...\n",
        "\n",
        "#### Download data\n",
        "\n",
        "... having copied the API request into the cell below, running this will retrieve and download the data you requested into your local directory. However, before you run the cell below, the **terms and conditions** of this particular dataset need to have been accepted in the CDS. The option to view and accept these conditions is given at the end of the download form, just above the **\"Show API request\"** option."
      ]
    },
    {
      "cell_type": "code",
      "execution_count": 9,
      "metadata": {
        "id": "IbrinEj6DAwX",
        "outputId": "10b76e68-0e28-4894-95bc-52ad424e29af",
        "colab": {
          "base_uri": "https://localhost:8080/",
          "height": 229,
          "referenced_widgets": [
            "d49bebb502aa48ba9c64870280fff855",
            "81a7b79a1c5241f9b0278090e2992dd9",
            "4457ee8f6d1146a1bdbeb5be8c34b604",
            "a0cab5e2da20489ab4294ec709fff3e0",
            "9a6e6413b324498780c7d93c5861c2bb",
            "7cc81fb6f7d24743a8de5d3f4dd683ed",
            "bcd2aa8d27f44ebeb5d80477273e16f3",
            "2dcbbb3fd5904afa8ca7e1e130e450cd",
            "52fb01752cfa4e5ea658941f298915bf",
            "56a3e7a2bbd74732b34c564a88b0313e",
            "9055a38287544a348c00ecb7978e11be"
          ]
        }
      },
      "outputs": [
        {
          "output_type": "stream",
          "name": "stderr",
          "text": [
            "2025-10-04 07:13:03,908 INFO Request ID is 78afb6be-33f1-4420-9eef-765e7943955c\n",
            "INFO:ecmwf.datastores.legacy_client:Request ID is 78afb6be-33f1-4420-9eef-765e7943955c\n",
            "2025-10-04 07:13:04,071 INFO status has been updated to accepted\n",
            "INFO:ecmwf.datastores.legacy_client:status has been updated to accepted\n",
            "2025-10-04 07:13:18,193 INFO status has been updated to running\n",
            "INFO:ecmwf.datastores.legacy_client:status has been updated to running\n",
            "2025-10-04 07:49:33,927 INFO The 'netcdf_legacy' format is deprecated and no longer supported. Users are encouraged to update workflows to use the updated, and CF compliant, 'netcdf' option.\n",
            "INFO:ecmwf.datastores.legacy_client:The 'netcdf_legacy' format is deprecated and no longer supported. Users are encouraged to update workflows to use the updated, and CF compliant, 'netcdf' option.\n",
            "2025-10-04 07:51:34,587 INFO status has been updated to successful\n",
            "INFO:ecmwf.datastores.legacy_client:status has been updated to successful\n"
          ]
        },
        {
          "output_type": "display_data",
          "data": {
            "text/plain": [
              "41becdc81eaccadae976b06c8d46b857.nc:   0%|          | 0.00/1.56M [00:00<?, ?B/s]"
            ],
            "application/vnd.jupyter.widget-view+json": {
              "version_major": 2,
              "version_minor": 0,
              "model_id": "d49bebb502aa48ba9c64870280fff855"
            }
          },
          "metadata": {}
        },
        {
          "output_type": "execute_result",
          "data": {
            "text/plain": [
              "'./NFrance_hourly_Sep.nc'"
            ],
            "application/vnd.google.colaboratory.intrinsic+json": {
              "type": "string"
            }
          },
          "metadata": {},
          "execution_count": 9
        }
      ],
      "source": [
        "c = cdsapi.Client(url=URL, key=KEY)\n",
        "c.retrieve(\n",
        "    'reanalysis-era5-single-levels',\n",
        "    {\n",
        "        'product_type': 'reanalysis',\n",
        "        'data_format': 'netcdf_legacy',\n",
        "        'variable': '2m_temperature',\n",
        "        'year': [\n",
        "            '1979', '1980', '1981',\n",
        "            '1982', '1983', '1984',\n",
        "            '1985', '1986', '1987',\n",
        "            '1988', '1989', '1990',\n",
        "            '1991', '1992', '1993',\n",
        "            '1994', '1995', '1996',\n",
        "            '1997', '1998', '1999',\n",
        "            '2000', '2001', '2002',\n",
        "            '2003', '2004', '2005',\n",
        "            '2006', '2007', '2008',\n",
        "            '2009', '2010', '2011',\n",
        "            '2012', '2013', '2014',\n",
        "            '2015', '2016', '2017',\n",
        "            '2018', '2019', '2020',\n",
        "        ],\n",
        "        'month': '09',\n",
        "        'day': [\n",
        "            '01', '02', '03',\n",
        "            '04', '05', '06',\n",
        "            '07', '08', '09',\n",
        "            '10', '11', '12',\n",
        "            '13', '14', '15',\n",
        "            '16', '17', '18',\n",
        "            '19', '20', '21',\n",
        "            '22', '23', '24',\n",
        "            '25', '26', '27',\n",
        "            '28', '29', '30',\n",
        "        ],\n",
        "        'time': [\n",
        "            '00:00', '01:00', '02:00',\n",
        "            '03:00', '04:00', '05:00',\n",
        "            '06:00', '07:00', '08:00',\n",
        "            '09:00', '10:00', '11:00',\n",
        "            '12:00', '13:00', '14:00',\n",
        "            '15:00', '16:00', '17:00',\n",
        "            '18:00', '19:00', '20:00',\n",
        "            '21:00', '22:00', '23:00',\n",
        "        ],\n",
        "        'area': [\n",
        "            51, 3, 50,\n",
        "            4,\n",
        "        ],\n",
        "    },\n",
        "    f'{DATADIR}NFrance_hourly_Sep.nc')"
      ]
    },
    {
      "cell_type": "markdown",
      "metadata": {
        "id": "XwZJsk1pDAwa"
      },
      "source": [
        "#### Inspect Data\n",
        "\n",
        "We have requested the data in NetCDF format. This is a commonly used format for array-oriented scientific data. To read and process this data we will make use of the Xarray library. Xarray is an open source project and Python package that makes working with labelled multi-dimensional arrays simple and efficient. We will read the data from our NetCDF file into an [xarray.Dataset](https://xarray.pydata.org/en/stable/generated/xarray.Dataset.html)."
      ]
    },
    {
      "cell_type": "code",
      "execution_count": 10,
      "metadata": {
        "id": "2QrNfcWSDAwa"
      },
      "outputs": [],
      "source": [
        "filename = f'{DATADIR}NFrance_hourly_Sep.nc'\n",
        "# Create Xarray Dataset\n",
        "ds = xr.open_dataset(filename)"
      ]
    },
    {
      "cell_type": "markdown",
      "metadata": {
        "id": "27ANhVHFDAwb"
      },
      "source": [
        "Now we can query our newly created Xarray dataset ..."
      ]
    },
    {
      "cell_type": "code",
      "execution_count": 11,
      "metadata": {
        "id": "OK0g-hxqDAwd",
        "outputId": "3c912e1c-74ef-4ccf-ae75-f7a0ecbdb58e",
        "colab": {
          "base_uri": "https://localhost:8080/",
          "height": 346
        }
      },
      "outputs": [
        {
          "output_type": "execute_result",
          "data": {
            "text/plain": [
              "<xarray.Dataset> Size: 6MB\n",
              "Dimensions:    (time: 30240, latitude: 5, longitude: 5)\n",
              "Coordinates:\n",
              "  * longitude  (longitude) float32 20B 3.0 3.25 3.5 3.75 4.0\n",
              "  * latitude   (latitude) float32 20B 51.0 50.75 50.5 50.25 50.0\n",
              "  * time       (time) datetime64[ns] 242kB 1979-09-01 ... 2020-09-30T23:00:00\n",
              "Data variables:\n",
              "    t2m        (time, latitude, longitude) float64 6MB ...\n",
              "Attributes:\n",
              "    Conventions:  CF-1.6\n",
              "    history:      2025-10-04 07:49:24 GMT by grib_to_netcdf-2.42.0: grib_to_n..."
            ],
            "text/html": [
              "<div><svg style=\"position: absolute; width: 0; height: 0; overflow: hidden\">\n",
              "<defs>\n",
              "<symbol id=\"icon-database\" viewBox=\"0 0 32 32\">\n",
              "<path d=\"M16 0c-8.837 0-16 2.239-16 5v4c0 2.761 7.163 5 16 5s16-2.239 16-5v-4c0-2.761-7.163-5-16-5z\"></path>\n",
              "<path d=\"M16 17c-8.837 0-16-2.239-16-5v6c0 2.761 7.163 5 16 5s16-2.239 16-5v-6c0 2.761-7.163 5-16 5z\"></path>\n",
              "<path d=\"M16 26c-8.837 0-16-2.239-16-5v6c0 2.761 7.163 5 16 5s16-2.239 16-5v-6c0 2.761-7.163 5-16 5z\"></path>\n",
              "</symbol>\n",
              "<symbol id=\"icon-file-text2\" viewBox=\"0 0 32 32\">\n",
              "<path d=\"M28.681 7.159c-0.694-0.947-1.662-2.053-2.724-3.116s-2.169-2.030-3.116-2.724c-1.612-1.182-2.393-1.319-2.841-1.319h-15.5c-1.378 0-2.5 1.121-2.5 2.5v27c0 1.378 1.122 2.5 2.5 2.5h23c1.378 0 2.5-1.122 2.5-2.5v-19.5c0-0.448-0.137-1.23-1.319-2.841zM24.543 5.457c0.959 0.959 1.712 1.825 2.268 2.543h-4.811v-4.811c0.718 0.556 1.584 1.309 2.543 2.268zM28 29.5c0 0.271-0.229 0.5-0.5 0.5h-23c-0.271 0-0.5-0.229-0.5-0.5v-27c0-0.271 0.229-0.5 0.5-0.5 0 0 15.499-0 15.5 0v7c0 0.552 0.448 1 1 1h7v19.5z\"></path>\n",
              "<path d=\"M23 26h-14c-0.552 0-1-0.448-1-1s0.448-1 1-1h14c0.552 0 1 0.448 1 1s-0.448 1-1 1z\"></path>\n",
              "<path d=\"M23 22h-14c-0.552 0-1-0.448-1-1s0.448-1 1-1h14c0.552 0 1 0.448 1 1s-0.448 1-1 1z\"></path>\n",
              "<path d=\"M23 18h-14c-0.552 0-1-0.448-1-1s0.448-1 1-1h14c0.552 0 1 0.448 1 1s-0.448 1-1 1z\"></path>\n",
              "</symbol>\n",
              "</defs>\n",
              "</svg>\n",
              "<style>/* CSS stylesheet for displaying xarray objects in notebooks */\n",
              "\n",
              ":root {\n",
              "  --xr-font-color0: var(\n",
              "    --jp-content-font-color0,\n",
              "    var(--pst-color-text-base rgba(0, 0, 0, 1))\n",
              "  );\n",
              "  --xr-font-color2: var(\n",
              "    --jp-content-font-color2,\n",
              "    var(--pst-color-text-base, rgba(0, 0, 0, 0.54))\n",
              "  );\n",
              "  --xr-font-color3: var(\n",
              "    --jp-content-font-color3,\n",
              "    var(--pst-color-text-base, rgba(0, 0, 0, 0.38))\n",
              "  );\n",
              "  --xr-border-color: var(\n",
              "    --jp-border-color2,\n",
              "    hsl(from var(--pst-color-on-background, white) h s calc(l - 10))\n",
              "  );\n",
              "  --xr-disabled-color: var(\n",
              "    --jp-layout-color3,\n",
              "    hsl(from var(--pst-color-on-background, white) h s calc(l - 40))\n",
              "  );\n",
              "  --xr-background-color: var(\n",
              "    --jp-layout-color0,\n",
              "    var(--pst-color-on-background, white)\n",
              "  );\n",
              "  --xr-background-color-row-even: var(\n",
              "    --jp-layout-color1,\n",
              "    hsl(from var(--pst-color-on-background, white) h s calc(l - 5))\n",
              "  );\n",
              "  --xr-background-color-row-odd: var(\n",
              "    --jp-layout-color2,\n",
              "    hsl(from var(--pst-color-on-background, white) h s calc(l - 15))\n",
              "  );\n",
              "}\n",
              "\n",
              "html[theme=\"dark\"],\n",
              "html[data-theme=\"dark\"],\n",
              "body[data-theme=\"dark\"],\n",
              "body.vscode-dark {\n",
              "  --xr-font-color0: var(\n",
              "    --jp-content-font-color0,\n",
              "    var(--pst-color-text-base, rgba(255, 255, 255, 1))\n",
              "  );\n",
              "  --xr-font-color2: var(\n",
              "    --jp-content-font-color2,\n",
              "    var(--pst-color-text-base, rgba(255, 255, 255, 0.54))\n",
              "  );\n",
              "  --xr-font-color3: var(\n",
              "    --jp-content-font-color3,\n",
              "    var(--pst-color-text-base, rgba(255, 255, 255, 0.38))\n",
              "  );\n",
              "  --xr-border-color: var(\n",
              "    --jp-border-color2,\n",
              "    hsl(from var(--pst-color-on-background, #111111) h s calc(l + 10))\n",
              "  );\n",
              "  --xr-disabled-color: var(\n",
              "    --jp-layout-color3,\n",
              "    hsl(from var(--pst-color-on-background, #111111) h s calc(l + 40))\n",
              "  );\n",
              "  --xr-background-color: var(\n",
              "    --jp-layout-color0,\n",
              "    var(--pst-color-on-background, #111111)\n",
              "  );\n",
              "  --xr-background-color-row-even: var(\n",
              "    --jp-layout-color1,\n",
              "    hsl(from var(--pst-color-on-background, #111111) h s calc(l + 5))\n",
              "  );\n",
              "  --xr-background-color-row-odd: var(\n",
              "    --jp-layout-color2,\n",
              "    hsl(from var(--pst-color-on-background, #111111) h s calc(l + 15))\n",
              "  );\n",
              "}\n",
              "\n",
              ".xr-wrap {\n",
              "  display: block !important;\n",
              "  min-width: 300px;\n",
              "  max-width: 700px;\n",
              "  line-height: 1.6;\n",
              "}\n",
              "\n",
              ".xr-text-repr-fallback {\n",
              "  /* fallback to plain text repr when CSS is not injected (untrusted notebook) */\n",
              "  display: none;\n",
              "}\n",
              "\n",
              ".xr-header {\n",
              "  padding-top: 6px;\n",
              "  padding-bottom: 6px;\n",
              "  margin-bottom: 4px;\n",
              "  border-bottom: solid 1px var(--xr-border-color);\n",
              "}\n",
              "\n",
              ".xr-header > div,\n",
              ".xr-header > ul {\n",
              "  display: inline;\n",
              "  margin-top: 0;\n",
              "  margin-bottom: 0;\n",
              "}\n",
              "\n",
              ".xr-obj-type,\n",
              ".xr-obj-name,\n",
              ".xr-group-name {\n",
              "  margin-left: 2px;\n",
              "  margin-right: 10px;\n",
              "}\n",
              "\n",
              ".xr-group-name::before {\n",
              "  content: \"📁\";\n",
              "  padding-right: 0.3em;\n",
              "}\n",
              "\n",
              ".xr-group-name,\n",
              ".xr-obj-type {\n",
              "  color: var(--xr-font-color2);\n",
              "}\n",
              "\n",
              ".xr-sections {\n",
              "  padding-left: 0 !important;\n",
              "  display: grid;\n",
              "  grid-template-columns: 150px auto auto 1fr 0 20px 0 20px;\n",
              "  margin-block-start: 0;\n",
              "  margin-block-end: 0;\n",
              "}\n",
              "\n",
              ".xr-section-item {\n",
              "  display: contents;\n",
              "}\n",
              "\n",
              ".xr-section-item input {\n",
              "  display: inline-block;\n",
              "  opacity: 0;\n",
              "  height: 0;\n",
              "  margin: 0;\n",
              "}\n",
              "\n",
              ".xr-section-item input + label {\n",
              "  color: var(--xr-disabled-color);\n",
              "  border: 2px solid transparent !important;\n",
              "}\n",
              "\n",
              ".xr-section-item input:enabled + label {\n",
              "  cursor: pointer;\n",
              "  color: var(--xr-font-color2);\n",
              "}\n",
              "\n",
              ".xr-section-item input:focus + label {\n",
              "  border: 2px solid var(--xr-font-color0) !important;\n",
              "}\n",
              "\n",
              ".xr-section-item input:enabled + label:hover {\n",
              "  color: var(--xr-font-color0);\n",
              "}\n",
              "\n",
              ".xr-section-summary {\n",
              "  grid-column: 1;\n",
              "  color: var(--xr-font-color2);\n",
              "  font-weight: 500;\n",
              "}\n",
              "\n",
              ".xr-section-summary > span {\n",
              "  display: inline-block;\n",
              "  padding-left: 0.5em;\n",
              "}\n",
              "\n",
              ".xr-section-summary-in:disabled + label {\n",
              "  color: var(--xr-font-color2);\n",
              "}\n",
              "\n",
              ".xr-section-summary-in + label:before {\n",
              "  display: inline-block;\n",
              "  content: \"►\";\n",
              "  font-size: 11px;\n",
              "  width: 15px;\n",
              "  text-align: center;\n",
              "}\n",
              "\n",
              ".xr-section-summary-in:disabled + label:before {\n",
              "  color: var(--xr-disabled-color);\n",
              "}\n",
              "\n",
              ".xr-section-summary-in:checked + label:before {\n",
              "  content: \"▼\";\n",
              "}\n",
              "\n",
              ".xr-section-summary-in:checked + label > span {\n",
              "  display: none;\n",
              "}\n",
              "\n",
              ".xr-section-summary,\n",
              ".xr-section-inline-details {\n",
              "  padding-top: 4px;\n",
              "}\n",
              "\n",
              ".xr-section-inline-details {\n",
              "  grid-column: 2 / -1;\n",
              "}\n",
              "\n",
              ".xr-section-details {\n",
              "  display: none;\n",
              "  grid-column: 1 / -1;\n",
              "  margin-top: 4px;\n",
              "  margin-bottom: 5px;\n",
              "}\n",
              "\n",
              ".xr-section-summary-in:checked ~ .xr-section-details {\n",
              "  display: contents;\n",
              "}\n",
              "\n",
              ".xr-group-box {\n",
              "  display: inline-grid;\n",
              "  grid-template-columns: 0px 20px auto;\n",
              "  width: 100%;\n",
              "}\n",
              "\n",
              ".xr-group-box-vline {\n",
              "  grid-column-start: 1;\n",
              "  border-right: 0.2em solid;\n",
              "  border-color: var(--xr-border-color);\n",
              "  width: 0px;\n",
              "}\n",
              "\n",
              ".xr-group-box-hline {\n",
              "  grid-column-start: 2;\n",
              "  grid-row-start: 1;\n",
              "  height: 1em;\n",
              "  width: 20px;\n",
              "  border-bottom: 0.2em solid;\n",
              "  border-color: var(--xr-border-color);\n",
              "}\n",
              "\n",
              ".xr-group-box-contents {\n",
              "  grid-column-start: 3;\n",
              "}\n",
              "\n",
              ".xr-array-wrap {\n",
              "  grid-column: 1 / -1;\n",
              "  display: grid;\n",
              "  grid-template-columns: 20px auto;\n",
              "}\n",
              "\n",
              ".xr-array-wrap > label {\n",
              "  grid-column: 1;\n",
              "  vertical-align: top;\n",
              "}\n",
              "\n",
              ".xr-preview {\n",
              "  color: var(--xr-font-color3);\n",
              "}\n",
              "\n",
              ".xr-array-preview,\n",
              ".xr-array-data {\n",
              "  padding: 0 5px !important;\n",
              "  grid-column: 2;\n",
              "}\n",
              "\n",
              ".xr-array-data,\n",
              ".xr-array-in:checked ~ .xr-array-preview {\n",
              "  display: none;\n",
              "}\n",
              "\n",
              ".xr-array-in:checked ~ .xr-array-data,\n",
              ".xr-array-preview {\n",
              "  display: inline-block;\n",
              "}\n",
              "\n",
              ".xr-dim-list {\n",
              "  display: inline-block !important;\n",
              "  list-style: none;\n",
              "  padding: 0 !important;\n",
              "  margin: 0;\n",
              "}\n",
              "\n",
              ".xr-dim-list li {\n",
              "  display: inline-block;\n",
              "  padding: 0;\n",
              "  margin: 0;\n",
              "}\n",
              "\n",
              ".xr-dim-list:before {\n",
              "  content: \"(\";\n",
              "}\n",
              "\n",
              ".xr-dim-list:after {\n",
              "  content: \")\";\n",
              "}\n",
              "\n",
              ".xr-dim-list li:not(:last-child):after {\n",
              "  content: \",\";\n",
              "  padding-right: 5px;\n",
              "}\n",
              "\n",
              ".xr-has-index {\n",
              "  font-weight: bold;\n",
              "}\n",
              "\n",
              ".xr-var-list,\n",
              ".xr-var-item {\n",
              "  display: contents;\n",
              "}\n",
              "\n",
              ".xr-var-item > div,\n",
              ".xr-var-item label,\n",
              ".xr-var-item > .xr-var-name span {\n",
              "  background-color: var(--xr-background-color-row-even);\n",
              "  border-color: var(--xr-background-color-row-odd);\n",
              "  margin-bottom: 0;\n",
              "  padding-top: 2px;\n",
              "}\n",
              "\n",
              ".xr-var-item > .xr-var-name:hover span {\n",
              "  padding-right: 5px;\n",
              "}\n",
              "\n",
              ".xr-var-list > li:nth-child(odd) > div,\n",
              ".xr-var-list > li:nth-child(odd) > label,\n",
              ".xr-var-list > li:nth-child(odd) > .xr-var-name span {\n",
              "  background-color: var(--xr-background-color-row-odd);\n",
              "  border-color: var(--xr-background-color-row-even);\n",
              "}\n",
              "\n",
              ".xr-var-name {\n",
              "  grid-column: 1;\n",
              "}\n",
              "\n",
              ".xr-var-dims {\n",
              "  grid-column: 2;\n",
              "}\n",
              "\n",
              ".xr-var-dtype {\n",
              "  grid-column: 3;\n",
              "  text-align: right;\n",
              "  color: var(--xr-font-color2);\n",
              "}\n",
              "\n",
              ".xr-var-preview {\n",
              "  grid-column: 4;\n",
              "}\n",
              "\n",
              ".xr-index-preview {\n",
              "  grid-column: 2 / 5;\n",
              "  color: var(--xr-font-color2);\n",
              "}\n",
              "\n",
              ".xr-var-name,\n",
              ".xr-var-dims,\n",
              ".xr-var-dtype,\n",
              ".xr-preview,\n",
              ".xr-attrs dt {\n",
              "  white-space: nowrap;\n",
              "  overflow: hidden;\n",
              "  text-overflow: ellipsis;\n",
              "  padding-right: 10px;\n",
              "}\n",
              "\n",
              ".xr-var-name:hover,\n",
              ".xr-var-dims:hover,\n",
              ".xr-var-dtype:hover,\n",
              ".xr-attrs dt:hover {\n",
              "  overflow: visible;\n",
              "  width: auto;\n",
              "  z-index: 1;\n",
              "}\n",
              "\n",
              ".xr-var-attrs,\n",
              ".xr-var-data,\n",
              ".xr-index-data {\n",
              "  display: none;\n",
              "  border-top: 2px dotted var(--xr-background-color);\n",
              "  padding-bottom: 20px !important;\n",
              "  padding-top: 10px !important;\n",
              "}\n",
              "\n",
              ".xr-var-attrs-in + label,\n",
              ".xr-var-data-in + label,\n",
              ".xr-index-data-in + label {\n",
              "  padding: 0 1px;\n",
              "}\n",
              "\n",
              ".xr-var-attrs-in:checked ~ .xr-var-attrs,\n",
              ".xr-var-data-in:checked ~ .xr-var-data,\n",
              ".xr-index-data-in:checked ~ .xr-index-data {\n",
              "  display: block;\n",
              "}\n",
              "\n",
              ".xr-var-data > table {\n",
              "  float: right;\n",
              "}\n",
              "\n",
              ".xr-var-data > pre,\n",
              ".xr-index-data > pre,\n",
              ".xr-var-data > table > tbody > tr {\n",
              "  background-color: transparent !important;\n",
              "}\n",
              "\n",
              ".xr-var-name span,\n",
              ".xr-var-data,\n",
              ".xr-index-name div,\n",
              ".xr-index-data,\n",
              ".xr-attrs {\n",
              "  padding-left: 25px !important;\n",
              "}\n",
              "\n",
              ".xr-attrs,\n",
              ".xr-var-attrs,\n",
              ".xr-var-data,\n",
              ".xr-index-data {\n",
              "  grid-column: 1 / -1;\n",
              "}\n",
              "\n",
              "dl.xr-attrs {\n",
              "  padding: 0;\n",
              "  margin: 0;\n",
              "  display: grid;\n",
              "  grid-template-columns: 125px auto;\n",
              "}\n",
              "\n",
              ".xr-attrs dt,\n",
              ".xr-attrs dd {\n",
              "  padding: 0;\n",
              "  margin: 0;\n",
              "  float: left;\n",
              "  padding-right: 10px;\n",
              "  width: auto;\n",
              "}\n",
              "\n",
              ".xr-attrs dt {\n",
              "  font-weight: normal;\n",
              "  grid-column: 1;\n",
              "}\n",
              "\n",
              ".xr-attrs dt:hover span {\n",
              "  display: inline-block;\n",
              "  background: var(--xr-background-color);\n",
              "  padding-right: 10px;\n",
              "}\n",
              "\n",
              ".xr-attrs dd {\n",
              "  grid-column: 2;\n",
              "  white-space: pre-wrap;\n",
              "  word-break: break-all;\n",
              "}\n",
              "\n",
              ".xr-icon-database,\n",
              ".xr-icon-file-text2,\n",
              ".xr-no-icon {\n",
              "  display: inline-block;\n",
              "  vertical-align: middle;\n",
              "  width: 1em;\n",
              "  height: 1.5em !important;\n",
              "  stroke-width: 0;\n",
              "  stroke: currentColor;\n",
              "  fill: currentColor;\n",
              "}\n",
              "\n",
              ".xr-var-attrs-in:checked + label > .xr-icon-file-text2,\n",
              ".xr-var-data-in:checked + label > .xr-icon-database,\n",
              ".xr-index-data-in:checked + label > .xr-icon-database {\n",
              "  color: var(--xr-font-color0);\n",
              "  filter: drop-shadow(1px 1px 5px var(--xr-font-color2));\n",
              "  stroke-width: 0.8px;\n",
              "}\n",
              "</style><pre class='xr-text-repr-fallback'>&lt;xarray.Dataset&gt; Size: 6MB\n",
              "Dimensions:    (time: 30240, latitude: 5, longitude: 5)\n",
              "Coordinates:\n",
              "  * longitude  (longitude) float32 20B 3.0 3.25 3.5 3.75 4.0\n",
              "  * latitude   (latitude) float32 20B 51.0 50.75 50.5 50.25 50.0\n",
              "  * time       (time) datetime64[ns] 242kB 1979-09-01 ... 2020-09-30T23:00:00\n",
              "Data variables:\n",
              "    t2m        (time, latitude, longitude) float64 6MB ...\n",
              "Attributes:\n",
              "    Conventions:  CF-1.6\n",
              "    history:      2025-10-04 07:49:24 GMT by grib_to_netcdf-2.42.0: grib_to_n...</pre><div class='xr-wrap' style='display:none'><div class='xr-header'><div class='xr-obj-type'>xarray.Dataset</div></div><ul class='xr-sections'><li class='xr-section-item'><input id='section-4da0f905-70f9-41e8-bf3e-8a94f7ac1894' class='xr-section-summary-in' type='checkbox' disabled ><label for='section-4da0f905-70f9-41e8-bf3e-8a94f7ac1894' class='xr-section-summary'  title='Expand/collapse section'>Dimensions:</label><div class='xr-section-inline-details'><ul class='xr-dim-list'><li><span class='xr-has-index'>time</span>: 30240</li><li><span class='xr-has-index'>latitude</span>: 5</li><li><span class='xr-has-index'>longitude</span>: 5</li></ul></div><div class='xr-section-details'></div></li><li class='xr-section-item'><input id='section-fd017304-6c35-4cbd-a853-eae49bc03714' class='xr-section-summary-in' type='checkbox'  checked><label for='section-fd017304-6c35-4cbd-a853-eae49bc03714' class='xr-section-summary' >Coordinates: <span>(3)</span></label><div class='xr-section-inline-details'></div><div class='xr-section-details'><ul class='xr-var-list'><li class='xr-var-item'><div class='xr-var-name'><span class='xr-has-index'>longitude</span></div><div class='xr-var-dims'>(longitude)</div><div class='xr-var-dtype'>float32</div><div class='xr-var-preview xr-preview'>3.0 3.25 3.5 3.75 4.0</div><input id='attrs-6b452ac0-01c6-47be-a192-5fee3e758da6' class='xr-var-attrs-in' type='checkbox' ><label for='attrs-6b452ac0-01c6-47be-a192-5fee3e758da6' title='Show/Hide attributes'><svg class='icon xr-icon-file-text2'><use xlink:href='#icon-file-text2'></use></svg></label><input id='data-218079a5-b763-487f-9757-920e7e8882cd' class='xr-var-data-in' type='checkbox'><label for='data-218079a5-b763-487f-9757-920e7e8882cd' title='Show/Hide data repr'><svg class='icon xr-icon-database'><use xlink:href='#icon-database'></use></svg></label><div class='xr-var-attrs'><dl class='xr-attrs'><dt><span>units :</span></dt><dd>degrees_east</dd><dt><span>long_name :</span></dt><dd>longitude</dd></dl></div><div class='xr-var-data'><pre>array([3.  , 3.25, 3.5 , 3.75, 4.  ], dtype=float32)</pre></div></li><li class='xr-var-item'><div class='xr-var-name'><span class='xr-has-index'>latitude</span></div><div class='xr-var-dims'>(latitude)</div><div class='xr-var-dtype'>float32</div><div class='xr-var-preview xr-preview'>51.0 50.75 50.5 50.25 50.0</div><input id='attrs-706c8600-5d2f-4397-912a-290bb02f05fe' class='xr-var-attrs-in' type='checkbox' ><label for='attrs-706c8600-5d2f-4397-912a-290bb02f05fe' title='Show/Hide attributes'><svg class='icon xr-icon-file-text2'><use xlink:href='#icon-file-text2'></use></svg></label><input id='data-692cecfd-9278-4c8c-a6f6-ac462e54b378' class='xr-var-data-in' type='checkbox'><label for='data-692cecfd-9278-4c8c-a6f6-ac462e54b378' title='Show/Hide data repr'><svg class='icon xr-icon-database'><use xlink:href='#icon-database'></use></svg></label><div class='xr-var-attrs'><dl class='xr-attrs'><dt><span>units :</span></dt><dd>degrees_north</dd><dt><span>long_name :</span></dt><dd>latitude</dd></dl></div><div class='xr-var-data'><pre>array([51.  , 50.75, 50.5 , 50.25, 50.  ], dtype=float32)</pre></div></li><li class='xr-var-item'><div class='xr-var-name'><span class='xr-has-index'>time</span></div><div class='xr-var-dims'>(time)</div><div class='xr-var-dtype'>datetime64[ns]</div><div class='xr-var-preview xr-preview'>1979-09-01 ... 2020-09-30T23:00:00</div><input id='attrs-49078ddf-6d8f-4d2d-b134-31da02b8f2c9' class='xr-var-attrs-in' type='checkbox' ><label for='attrs-49078ddf-6d8f-4d2d-b134-31da02b8f2c9' title='Show/Hide attributes'><svg class='icon xr-icon-file-text2'><use xlink:href='#icon-file-text2'></use></svg></label><input id='data-9177c231-f837-4a81-89b8-a711f60e47ff' class='xr-var-data-in' type='checkbox'><label for='data-9177c231-f837-4a81-89b8-a711f60e47ff' title='Show/Hide data repr'><svg class='icon xr-icon-database'><use xlink:href='#icon-database'></use></svg></label><div class='xr-var-attrs'><dl class='xr-attrs'><dt><span>long_name :</span></dt><dd>time</dd></dl></div><div class='xr-var-data'><pre>array([&#x27;1979-09-01T00:00:00.000000000&#x27;, &#x27;1979-09-01T01:00:00.000000000&#x27;,\n",
              "       &#x27;1979-09-01T02:00:00.000000000&#x27;, ..., &#x27;2020-09-30T21:00:00.000000000&#x27;,\n",
              "       &#x27;2020-09-30T22:00:00.000000000&#x27;, &#x27;2020-09-30T23:00:00.000000000&#x27;],\n",
              "      dtype=&#x27;datetime64[ns]&#x27;)</pre></div></li></ul></div></li><li class='xr-section-item'><input id='section-cd2b6d8d-d01d-467c-903b-65af58d606f5' class='xr-section-summary-in' type='checkbox'  checked><label for='section-cd2b6d8d-d01d-467c-903b-65af58d606f5' class='xr-section-summary' >Data variables: <span>(1)</span></label><div class='xr-section-inline-details'></div><div class='xr-section-details'><ul class='xr-var-list'><li class='xr-var-item'><div class='xr-var-name'><span>t2m</span></div><div class='xr-var-dims'>(time, latitude, longitude)</div><div class='xr-var-dtype'>float64</div><div class='xr-var-preview xr-preview'>...</div><input id='attrs-9a1a032e-adf8-4c3e-8a40-2b4ca929c241' class='xr-var-attrs-in' type='checkbox' ><label for='attrs-9a1a032e-adf8-4c3e-8a40-2b4ca929c241' title='Show/Hide attributes'><svg class='icon xr-icon-file-text2'><use xlink:href='#icon-file-text2'></use></svg></label><input id='data-e2d1c0ea-6497-4376-ba81-22242bebfb87' class='xr-var-data-in' type='checkbox'><label for='data-e2d1c0ea-6497-4376-ba81-22242bebfb87' title='Show/Hide data repr'><svg class='icon xr-icon-database'><use xlink:href='#icon-database'></use></svg></label><div class='xr-var-attrs'><dl class='xr-attrs'><dt><span>units :</span></dt><dd>K</dd><dt><span>long_name :</span></dt><dd>2 metre temperature</dd></dl></div><div class='xr-var-data'><pre>[756000 values with dtype=float64]</pre></div></li></ul></div></li><li class='xr-section-item'><input id='section-e2f5fc7f-ed28-45ac-a9c7-e6dec14e0c41' class='xr-section-summary-in' type='checkbox'  checked><label for='section-e2f5fc7f-ed28-45ac-a9c7-e6dec14e0c41' class='xr-section-summary' >Attributes: <span>(2)</span></label><div class='xr-section-inline-details'></div><div class='xr-section-details'><dl class='xr-attrs'><dt><span>Conventions :</span></dt><dd>CF-1.6</dd><dt><span>history :</span></dt><dd>2025-10-04 07:49:24 GMT by grib_to_netcdf-2.42.0: grib_to_netcdf -S param -o /tmp/tmp5cymmgl9/tmp53qmy00a/data.nc /tmp/tmp5cymmgl9/tmp53qmy00a/data.grib</dd></dl></div></li></ul></div></div>"
            ]
          },
          "metadata": {},
          "execution_count": 11
        }
      ],
      "source": [
        "ds"
      ]
    },
    {
      "cell_type": "markdown",
      "metadata": {
        "id": "JxgvApv_DAwf"
      },
      "source": [
        "We see that the dataset has one variable called **\"t2m\"**, which stands for \"2 metre temperature\", and three coordinates of **longitude**, **latitude** and **time**.\n",
        "\n",
        "Select the icons to the right of the table above to expand the attributes of the coordinates and data variables. What are the units of the temperature data?"
      ]
    },
    {
      "cell_type": "markdown",
      "metadata": {
        "id": "K53ocCZjDAwg"
      },
      "source": [
        "While an Xarray **dataset** may contain multiple variables, an Xarray **data array** holds a single variable (which may still be multi-dimensional) and its coordinates. To make the processing of the **t2m** data easier, we convert in into an Xarray data array:"
      ]
    },
    {
      "cell_type": "code",
      "execution_count": 12,
      "metadata": {
        "id": "3TG3Nl8rDAwh"
      },
      "outputs": [],
      "source": [
        "da = ds['t2m']"
      ]
    },
    {
      "cell_type": "markdown",
      "metadata": {
        "id": "Nzs6bYL6DAwi"
      },
      "source": [
        "Let's convert the units of the 2m temperature data from Kelvin to degrees Celsius. The formula for this is simple: degrees Celsius = Kelvin - 273.15"
      ]
    },
    {
      "cell_type": "code",
      "execution_count": 13,
      "metadata": {
        "id": "uPkdmjmHDAwi"
      },
      "outputs": [],
      "source": [
        "t2m_C = da - 273.15"
      ]
    },
    {
      "cell_type": "markdown",
      "metadata": {
        "id": "Wpx63eZHDAwj"
      },
      "source": [
        "## View daily maximum 2m temperature for September 2020\n",
        "\n",
        "As a next step, let us visualize the daily maximum 2m air temperature for September 2020. From the graph, we should be able to identify which day in September was hottest in the area around Lille."
      ]
    },
    {
      "cell_type": "markdown",
      "metadata": {
        "id": "bG8r4rghDAwk"
      },
      "source": [
        "First we average over the subset area:"
      ]
    },
    {
      "cell_type": "markdown",
      "metadata": {
        "id": "bmyWXb0mDAwm"
      },
      "source": [
        "> **Note:** The size covered by each data point varies as a function of latitude. We need to take this into account when averaging. One way to do this is to use the cosine of the latitude as a proxy for the varying sizes."
      ]
    },
    {
      "cell_type": "code",
      "execution_count": 14,
      "metadata": {
        "id": "MynBy61mDAwn"
      },
      "outputs": [],
      "source": [
        "weights = np.cos(np.deg2rad(t2m_C.latitude))\n",
        "weights.name = \"weights\"\n",
        "t2m_C_weighted = t2m_C.weighted(weights)"
      ]
    },
    {
      "cell_type": "code",
      "execution_count": 15,
      "metadata": {
        "id": "yUTL-XjUDAwn"
      },
      "outputs": [],
      "source": [
        "Lille_t2m = t2m_C_weighted.mean([\"longitude\", \"latitude\"])"
      ]
    },
    {
      "cell_type": "markdown",
      "metadata": {
        "id": "m6NeY5xfDAwp"
      },
      "source": [
        "Now we select only the data for 2020:"
      ]
    },
    {
      "cell_type": "code",
      "execution_count": 16,
      "metadata": {
        "id": "JCC1GSGSDAwp"
      },
      "outputs": [],
      "source": [
        "Lille_2020 = Lille_t2m.sel(time='2020')"
      ]
    },
    {
      "cell_type": "markdown",
      "metadata": {
        "id": "Rdy2O-7MDAwq"
      },
      "source": [
        "We can now calculate the max daily 2m temperature for each day in September 2020:"
      ]
    },
    {
      "cell_type": "code",
      "execution_count": 17,
      "metadata": {
        "id": "sSsSBY2tDAwq"
      },
      "outputs": [],
      "source": [
        "Lille_2020_max = Lille_2020.groupby('time.day').max('time')"
      ]
    },
    {
      "cell_type": "markdown",
      "metadata": {
        "id": "H_1RXmPiDAwq"
      },
      "source": [
        "Let's plot the results in a chart:"
      ]
    },
    {
      "cell_type": "code",
      "execution_count": 18,
      "metadata": {
        "id": "NRalGFccDAwr",
        "outputId": "fb62be27-e2bf-4ae2-f7c4-1808ef62578a",
        "colab": {
          "base_uri": "https://localhost:8080/",
          "height": 564
        }
      },
      "outputs": [
        {
          "output_type": "display_data",
          "data": {
            "text/plain": [
              "<Figure size 1200x600 with 1 Axes>"
            ],
            "image/png": "[encoded data removed]"
          },
          "metadata": {}
        }
      ],
      "source": [
        "fig, ax = plt.subplots(1, 1, figsize = (12, 6))\n",
        "\n",
        "ax.plot(Lille_2020_max.day, Lille_2020_max)\n",
        "ax.set_title('Max daily t2m for Sep 2020 in Lille region')\n",
        "ax.set_ylabel('° C')\n",
        "ax.set_xlabel('day')\n",
        "ax.grid(linestyle='--')\n",
        "for i,j in zip(Lille_2020_max.day, np.around(Lille_2020_max.values, 0).astype(int)):\n",
        "    ax.annotate(str(j),xy=(i,j))"
      ]
    },
    {
      "cell_type": "code",
      "execution_count": null,
      "metadata": {
        "id": "OwjXV-b8DAws",
        "outputId": "6aee61df-1cc0-4bda-e1b2-f502b67934bb"
      },
      "outputs": [
        {
          "name": "stdout",
          "output_type": "stream",
          "text": [
            "The maximum temperature in September 2020 in this area was 32.1 degrees Celsius.\n"
          ]
        }
      ],
      "source": [
        "print('The maximum temperature in September 2020 in this area was',\n",
        "      np.around(Lille_2020_max.max().values, 1), 'degrees Celsius.')"
      ]
    },
    {
      "cell_type": "markdown",
      "metadata": {
        "id": "BjCYb05QDAwt"
      },
      "source": [
        "Which day in September had the highest maximum temperature?\n",
        "\n",
        "Is this typical for Northern France? How does this compare with the long term average? We will seek to answer these questions in the next section."
      ]
    },
    {
      "cell_type": "markdown",
      "metadata": {
        "id": "KwiSKKaeDAxP"
      },
      "source": [
        "## Compare maximum temperatures with climatology\n",
        "We will now seek to discover just how high the temperature for Lille in mid September 2020 was when compared with typical values exptected in this region at this time of year. To do that we will calculate the climatology of maximum daily 2m temperature for each day in September for the period of 1979 to 2019, and compare these with our values for 2020."
      ]
    },
    {
      "cell_type": "markdown",
      "metadata": {
        "id": "BRQ3blycDAxQ"
      },
      "source": [
        "First we select all data prior to 2020:"
      ]
    },
    {
      "cell_type": "code",
      "execution_count": null,
      "metadata": {
        "id": "1fBIdlzFDAxR"
      },
      "outputs": [],
      "source": [
        "Lille_past = Lille_t2m.loc['1979':'2019']"
      ]
    },
    {
      "cell_type": "markdown",
      "metadata": {
        "id": "61LufWlzDAxS"
      },
      "source": [
        "Now we calculate the climatology for this data, i.e. the average values for each of the days in September for a period of several decades (from 1979 to 2019)."
      ]
    },
    {
      "cell_type": "markdown",
      "metadata": {
        "id": "pqkQgeq8DAxS"
      },
      "source": [
        "To do this, we first have to extract the maximum daily value for each day in the time series:"
      ]
    },
    {
      "cell_type": "code",
      "execution_count": null,
      "metadata": {
        "id": "O8f1t7EIDAxT"
      },
      "outputs": [],
      "source": [
        "Lille_max = Lille_past.resample(time='D').max().dropna('time')"
      ]
    },
    {
      "cell_type": "markdown",
      "metadata": {
        "id": "X0CunhNbDAxT"
      },
      "source": [
        "We will then calculate various quantiles of the maximum daily 2m temperatures for the 40 year time series for each day in September:"
      ]
    },
    {
      "cell_type": "code",
      "execution_count": null,
      "metadata": {
        "id": "-dVtkYaaDAxU"
      },
      "outputs": [],
      "source": [
        "Lille_max_max = Lille_max.groupby('time.day').max()\n",
        "Lille_max_min = Lille_max.groupby('time.day').min()\n",
        "Lille_max_mid = Lille_max.groupby('time.day').quantile(0.5)"
      ]
    },
    {
      "cell_type": "markdown",
      "metadata": {
        "id": "UY2Q8k-bDAxV"
      },
      "source": [
        "Let's plot this data. We will plot the, maximum, minimum and 50th quantile of the maximum daily temperature to have an idea of the expected range in this part of France in September, and compare this range with the values for 2020:"
      ]
    },
    {
      "cell_type": "code",
      "execution_count": null,
      "metadata": {
        "id": "_AMHSIRIDAxV",
        "outputId": "e4ffc938-8767-484f-a9ad-07d3566e36f2"
      },
      "outputs": [
        {
          "name": "stderr",
          "output_type": "stream",
          "text": [
            "C:\\Users\\cxcs\\AppData\\Local\\Temp/ipykernel_5360/21074062.py:5: UserWarning: color is redundantly defined by the 'color' keyword argument and the fmt string \"bo-\" (-> color='b'). The keyword argument will take precedence.\n",
            "  ax.plot(Lille_2020_max.day, Lille_2020_max, 'bo-', color='darkred', label='Daily max t2m Sep 2020')\n"
          ]
        },
        {
          "data": {
            "image/png": "[encoded data removed]",
            "text/plain": [
              "<Figure size 1152x576 with 1 Axes>"
            ]
          },
          "metadata": {
            "needs_background": "light"
          },
          "output_type": "display_data"
        }
      ],
      "source": [
        "fig = plt.figure(figsize=(16,8))\n",
        "ax = plt.subplot()\n",
        "\n",
        "ax.plot(Lille_2020_max.day, Lille_max_mid, color='green', label='Daily max t2m 50th quantile')\n",
        "ax.plot(Lille_2020_max.day, Lille_2020_max, 'bo-', color='darkred', label='Daily max t2m Sep 2020')\n",
        "ax.fill_between(Lille_2020_max.day, Lille_max_max, Lille_max_min, alpha=0.1,\n",
        "                label='Max and min values of max t2m from 1979 to 2019')\n",
        "\n",
        "ax.set_xlim(1,30)\n",
        "ax.set_ylim(10,33)\n",
        "ax.set_title('Daily max t2m for Sep 2020 compared with climatology for Sep from 1979 to 2019')\n",
        "ax.set_ylabel('t2m (Celsius)')\n",
        "ax.set_xlabel('day')\n",
        "handles, labels = ax.get_legend_handles_labels()\n",
        "ax.legend(handles, labels)\n",
        "ax.grid(linestyle='--')\n",
        "\n",
        "fig.savefig(f'{DATADIR}Max_t2m_clim_Sep_Lille.png')"
      ]
    },
    {
      "cell_type": "markdown",
      "metadata": {
        "id": "V8ci91GmDAxW"
      },
      "source": [
        "Interestingly, we see from this plot that while the temperatures from 14 to 16 Sep 2020 were the highest in the ERA5 dataset, on 25 September 2020, the lowest of the maximum temperatures was recorded for this dataset."
      ]
    },
    {
      "cell_type": "markdown",
      "metadata": {
        "id": "NCLonx3fDAxX"
      },
      "source": [
        "We will now look more closely at the probability distribution of maximum temperatures for 15 September in this time period. To do this, we will first select only the max daily temperature for 15 September, for each year in the time series:"
      ]
    },
    {
      "cell_type": "code",
      "execution_count": null,
      "metadata": {
        "id": "OrQV16k5DAxX"
      },
      "outputs": [],
      "source": [
        "Lille_max = Lille_max.dropna('time', how='all')\n",
        "Lille_15 = Lille_max[14::30]"
      ]
    },
    {
      "cell_type": "markdown",
      "metadata": {
        "id": "yO6G8PJgDAxX"
      },
      "source": [
        "We will then plot the histogram of this:"
      ]
    },
    {
      "cell_type": "code",
      "execution_count": null,
      "metadata": {
        "id": "yKut-IPeDAxZ",
        "outputId": "76ab9ee4-a2ec-4339-df72-2e05086283c6"
      },
      "outputs": [
        {
          "data": {
            "text/plain": [
              "(array([ 2.,  3., 11.,  6.,  7.,  5.,  1.,  2.,  3.,  1.]),\n",
              " array([12.54313564, 13.95039225, 15.35764885, 16.76490545, 18.17216206,\n",
              "        19.57941866, 20.98667526, 22.39393187, 23.80118847, 25.20844507,\n",
              "        26.61570168]),\n",
              " <BarContainer object of 10 artists>)"
            ]
          },
          "execution_count": 23,
          "metadata": {},
          "output_type": "execute_result"
        },
        {
          "data": {
            "image/png": "[encoded data removed]",
            "text/plain": [
              "<Figure size 432x288 with 1 Axes>"
            ]
          },
          "metadata": {
            "needs_background": "light"
          },
          "output_type": "display_data"
        }
      ],
      "source": [
        "Lille_15.plot.hist()"
      ]
    },
    {
      "cell_type": "markdown",
      "metadata": {
        "id": "8GEubpj9DAxZ"
      },
      "source": [
        "Look at the range of maximum temperatures for 15 September in the period from 1979 to 2019. Has the temperature in this period ever exceeded that of 15 September 2020?\n",
        "\n",
        "The histogram shows the distribution of maximum temperature of one day in each year of the time series, which corresponds to 41 samples. In order to increase the number of samples, let's plot the histogram of maximum temperatures on 15 September, plus or minus three days. This would increase our number of samples by a factor of seven.\n",
        "\n",
        "To do this, we first need to produce an index that takes the maximum 2m air temperature values from 12 to 18 September (15 September +/- three days) from every year in the time series. The first step is to initiate three numpy arrays:\n",
        "* `years`: with the number of years [0:40]\n",
        "* `days_in_sep`: index values of day range [11:17]\n",
        "* `index`: empty numpy array with 287 (41 years * 7) entries\n"
      ]
    },
    {
      "cell_type": "code",
      "execution_count": null,
      "metadata": {
        "id": "FhsnbJFJDAxa"
      },
      "outputs": [],
      "source": [
        "years = np.arange(41)\n",
        "days_in_sep = np.arange(11,18)\n",
        "index = np.zeros(287)"
      ]
    },
    {
      "cell_type": "markdown",
      "metadata": {
        "id": "t1ZrsOAbDAxa"
      },
      "source": [
        "In a next step, we then loop through each entry of the `years` array and fill the empty `index` array year by year with the correct indices of the day ranges for each year. The resulting array contains the index values of interest."
      ]
    },
    {
      "cell_type": "code",
      "execution_count": null,
      "metadata": {
        "id": "cM9JRsNLDAxa"
      },
      "outputs": [],
      "source": [
        "for i in years:\n",
        "    index[i*7:(i*7)+7] = days_in_sep + (i*30)\n",
        "index = index.astype(int)"
      ]
    },
    {
      "cell_type": "markdown",
      "metadata": {
        "id": "_28t4Na0DAxb"
      },
      "source": [
        "We then apply this index to filter the array of max daily temperature from 1979 to 2019. The resulting object is an array of values representing the maximum 2m air temperature in Lille between 12 and 18 September for each year from 1979 to 2019:"
      ]
    },
    {
      "cell_type": "code",
      "execution_count": null,
      "metadata": {
        "id": "B1psyMfIDAxb"
      },
      "outputs": [],
      "source": [
        "Lille_7days = Lille_max.values[index]"
      ]
    },
    {
      "cell_type": "markdown",
      "metadata": {
        "id": "nq9SINmpDAxb"
      },
      "source": [
        "Now we can plot the histogram of maximum daily temperatures in the days 12-18 September from 1979-2019:"
      ]
    },
    {
      "cell_type": "code",
      "execution_count": null,
      "metadata": {
        "id": "0rYkUtViDAxc",
        "outputId": "3193af9e-6657-4d12-8151-6ee80449e56f"
      },
      "outputs": [
        {
          "data": {
            "image/png": "[encoded data removed]",
            "text/plain": [
              "<Figure size 864x432 with 1 Axes>"
            ]
          },
          "metadata": {
            "needs_background": "light"
          },
          "output_type": "display_data"
        }
      ],
      "source": [
        "fig, ax = plt.subplots(1, 1, figsize = (12, 6))\n",
        "\n",
        "ax.hist(Lille_7days, bins = np.arange(10,32,1), color='lightgrey', ec='grey')\n",
        "ax.set_title('Histogram of maximum 2m temperature in the days from 12-18 Sep in the period 1979-2019')\n",
        "ax.set_xticks(np.arange(10,32,1))\n",
        "ax.set_ylabel('Accumulated days')\n",
        "ax.set_xlabel('Maximum 2m temperature (° C)')\n",
        "\n",
        "fig.savefig(f'{DATADIR}Hist_max_t2m_mid-Sep_1979-2019.png')"
      ]
    },
    {
      "cell_type": "markdown",
      "metadata": {
        "id": "zQbPZYKfDAxc"
      },
      "source": [
        "In the histogram above, you see that even if we take an increased sample covering a wider temporal range, the maximum daily temperature still never reached that of 15 September 2020. To increase the sample even further, you could include data from a longer time period. The C3S reanalysis dataset now extends back to 1940 and is accessible here [ERA5 hourly data on single levels from 1940 to present](https://cds.climate.copernicus.eu/datasets?q=era5+hourly+single+levels)."
      ]
    },
    {
      "cell_type": "markdown",
      "metadata": {
        "id": "gIZa2cCADAxd"
      },
      "source": [
        "<hr>"
      ]
    }
  ],
  "metadata": {
    "kernelspec": {
      "display_name": "Python 3 (ipykernel)",
      "language": "python",
      "name": "python3"
    },
    "language_info": {
      "codemirror_mode": {
        "name": "ipython",
        "version": 3
      },
      "file_extension": ".py",
      "mimetype": "text/x-python",
      "name": "python",
      "nbconvert_exporter": "python",
      "pygments_lexer": "ipython3",
      "version": "3.10.9"
    },
    "colab": {
      "provenance": []
    },
    "widgets": {
      "application/vnd.jupyter.widget-state+json": {
        "d49bebb502aa48ba9c64870280fff855": {
          "model_module": "@jupyter-widgets/controls",
          "model_name": "HBoxModel",
          "model_module_version": "1.5.0",
          "state": {
            "_dom_classes": [],
            "_model_module": "@jupyter-widgets/controls",
            "_model_module_version": "1.5.0",
            "_model_name": "HBoxModel",
            "_view_count": null,
            "_view_module": "@jupyter-widgets/controls",
            "_view_module_version": "1.5.0",
            "_view_name": "HBoxView",
            "box_style": "",
            "children": [
              "IPY_MODEL_81a7b79a1c5241f9b0278090e2992dd9",
              "IPY_MODEL_4457ee8f6d1146a1bdbeb5be8c34b604",
              "IPY_MODEL_a0cab5e2da20489ab4294ec709fff3e0"
            ],
            "layout": "IPY_MODEL_9a6e6413b324498780c7d93c5861c2bb"
          }
        },
        "81a7b79a1c5241f9b0278090e2992dd9": {
          "model_module": "@jupyter-widgets/controls",
          "model_name": "HTMLModel",
          "model_module_version": "1.5.0",
          "state": {
            "_dom_classes": [],
            "_model_module": "@jupyter-widgets/controls",
            "_model_module_version": "1.5.0",
            "_model_name": "HTMLModel",
            "_view_count": null,
            "_view_module": "@jupyter-widgets/controls",
            "_view_module_version": "1.5.0",
            "_view_name": "HTMLView",
            "description": "",
            "description_tooltip": null,
            "layout": "IPY_MODEL_7cc81fb6f7d24743a8de5d3f4dd683ed",
            "placeholder": "​",
            "style": "IPY_MODEL_bcd2aa8d27f44ebeb5d80477273e16f3",
            "value": "41becdc81eaccadae976b06c8d46b857.nc:  64%"
          }
        },
        "4457ee8f6d1146a1bdbeb5be8c34b604": {
          "model_module": "@jupyter-widgets/controls",
          "model_name": "FloatProgressModel",
          "model_module_version": "1.5.0",
          "state": {
            "_dom_classes": [],
            "_model_module": "@jupyter-widgets/controls",
            "_model_module_version": "1.5.0",
            "_model_name": "FloatProgressModel",
            "_view_count": null,
            "_view_module": "@jupyter-widgets/controls",
            "_view_module_version": "1.5.0",
            "_view_name": "ProgressView",
            "bar_style": "",
            "description": "",
            "description_tooltip": null,
            "layout": "IPY_MODEL_2dcbbb3fd5904afa8ca7e1e130e450cd",
            "max": 1633908,
            "min": 0,
            "orientation": "horizontal",
            "style": "IPY_MODEL_52fb01752cfa4e5ea658941f298915bf",
            "value": 1633908
          }
        },
        "a0cab5e2da20489ab4294ec709fff3e0": {
          "model_module": "@jupyter-widgets/controls",
          "model_name": "HTMLModel",
          "model_module_version": "1.5.0",
          "state": {
            "_dom_classes": [],
            "_model_module": "@jupyter-widgets/controls",
            "_model_module_version": "1.5.0",
            "_model_name": "HTMLModel",
            "_view_count": null,
            "_view_module": "@jupyter-widgets/controls",
            "_view_module_version": "1.5.0",
            "_view_name": "HTMLView",
            "description": "",
            "description_tooltip": null,
            "layout": "IPY_MODEL_56a3e7a2bbd74732b34c564a88b0313e",
            "placeholder": "​",
            "style": "IPY_MODEL_9055a38287544a348c00ecb7978e11be",
            "value": " 1.00M/1.56M [00:01&lt;00:00, 999kB/s]"
          }
        },
        "9a6e6413b324498780c7d93c5861c2bb": {
          "model_module": "@jupyter-widgets/base",
          "model_name": "LayoutModel",
          "model_module_version": "1.2.0",
          "state": {
            "_model_module": "@jupyter-widgets/base",
            "_model_module_version": "1.2.0",
            "_model_name": "LayoutModel",
            "_view_count": null,
            "_view_module": "@jupyter-widgets/base",
            "_view_module_version": "1.2.0",
            "_view_name": "LayoutView",
            "align_content": null,
            "align_items": null,
            "align_self": null,
            "border": null,
            "bottom": null,
            "display": null,
            "flex": null,
            "flex_flow": null,
            "grid_area": null,
            "grid_auto_columns": null,
            "grid_auto_flow": null,
            "grid_auto_rows": null,
            "grid_column": null,
            "grid_gap": null,
            "grid_row": null,
            "grid_template_areas": null,
            "grid_template_columns": null,
            "grid_template_rows": null,
            "height": null,
            "justify_content": null,
            "justify_items": null,
            "left": null,
            "margin": null,
            "max_height": null,
            "max_width": null,
            "min_height": null,
            "min_width": null,
            "object_fit": null,
            "object_position": null,
            "order": null,
            "overflow": null,
            "overflow_x": null,
            "overflow_y": null,
            "padding": null,
            "right": null,
            "top": null,
            "visibility": "hidden",
            "width": null
          }
        },
        "7cc81fb6f7d24743a8de5d3f4dd683ed": {
          "model_module": "@jupyter-widgets/base",
          "model_name": "LayoutModel",
          "model_module_version": "1.2.0",
          "state": {
            "_model_module": "@jupyter-widgets/base",
            "_model_module_version": "1.2.0",
            "_model_name": "LayoutModel",
            "_view_count": null,
            "_view_module": "@jupyter-widgets/base",
            "_view_module_version": "1.2.0",
            "_view_name": "LayoutView",
            "align_content": null,
            "align_items": null,
            "align_self": null,
            "border": null,
            "bottom": null,
            "display": null,
            "flex": null,
            "flex_flow": null,
            "grid_area": null,
            "grid_auto_columns": null,
            "grid_auto_flow": null,
            "grid_auto_rows": null,
            "grid_column": null,
            "grid_gap": null,
            "grid_row": null,
            "grid_template_areas": null,
            "grid_template_columns": null,
            "grid_template_rows": null,
            "height": null,
            "justify_content": null,
            "justify_items": null,
            "left": null,
            "margin": null,
            "max_height": null,
            "max_width": null,
            "min_height": null,
            "min_width": null,
            "object_fit": null,
            "object_position": null,
            "order": null,
            "overflow": null,
            "overflow_x": null,
            "overflow_y": null,
            "padding": null,
            "right": null,
            "top": null,
            "visibility": null,
            "width": null
          }
        },
        "bcd2aa8d27f44ebeb5d80477273e16f3": {
          "model_module": "@jupyter-widgets/controls",
          "model_name": "DescriptionStyleModel",
          "model_module_version": "1.5.0",
          "state": {
            "_model_module": "@jupyter-widgets/controls",
            "_model_module_version": "1.5.0",
            "_model_name": "DescriptionStyleModel",
            "_view_count": null,
            "_view_module": "@jupyter-widgets/base",
            "_view_module_version": "1.2.0",
            "_view_name": "StyleView",
            "description_width": ""
          }
        },
        "2dcbbb3fd5904afa8ca7e1e130e450cd": {
          "model_module": "@jupyter-widgets/base",
          "model_name": "LayoutModel",
          "model_module_version": "1.2.0",
          "state": {
            "_model_module": "@jupyter-widgets/base",
            "_model_module_version": "1.2.0",
            "_model_name": "LayoutModel",
            "_view_count": null,
            "_view_module": "@jupyter-widgets/base",
            "_view_module_version": "1.2.0",
            "_view_name": "LayoutView",
            "align_content": null,
            "align_items": null,
            "align_self": null,
            "border": null,
            "bottom": null,
            "display": null,
            "flex": null,
            "flex_flow": null,
            "grid_area": null,
            "grid_auto_columns": null,
            "grid_auto_flow": null,
            "grid_auto_rows": null,
            "grid_column": null,
            "grid_gap": null,
            "grid_row": null,
            "grid_template_areas": null,
            "grid_template_columns": null,
            "grid_template_rows": null,
            "height": null,
            "justify_content": null,
            "justify_items": null,
            "left": null,
            "margin": null,
            "max_height": null,
            "max_width": null,
            "min_height": null,
            "min_width": null,
            "object_fit": null,
            "object_position": null,
            "order": null,
            "overflow": null,
            "overflow_x": null,
            "overflow_y": null,
            "padding": null,
            "right": null,
            "top": null,
            "visibility": null,
            "width": null
          }
        },
        "52fb01752cfa4e5ea658941f298915bf": {
          "model_module": "@jupyter-widgets/controls",
          "model_name": "ProgressStyleModel",
          "model_module_version": "1.5.0",
          "state": {
            "_model_module": "@jupyter-widgets/controls",
            "_model_module_version": "1.5.0",
            "_model_name": "ProgressStyleModel",
            "_view_count": null,
            "_view_module": "@jupyter-widgets/base",
            "_view_module_version": "1.2.0",
            "_view_name": "StyleView",
            "bar_color": null,
            "description_width": ""
          }
        },
        "56a3e7a2bbd74732b34c564a88b0313e": {
          "model_module": "@jupyter-widgets/base",
          "model_name": "LayoutModel",
          "model_module_version": "1.2.0",
          "state": {
            "_model_module": "@jupyter-widgets/base",
            "_model_module_version": "1.2.0",
            "_model_name": "LayoutModel",
            "_view_count": null,
            "_view_module": "@jupyter-widgets/base",
            "_view_module_version": "1.2.0",
            "_view_name": "LayoutView",
            "align_content": null,
            "align_items": null,
            "align_self": null,
            "border": null,
            "bottom": null,
            "display": null,
            "flex": null,
            "flex_flow": null,
            "grid_area": null,
            "grid_auto_columns": null,
            "grid_auto_flow": null,
            "grid_auto_rows": null,
            "grid_column": null,
            "grid_gap": null,
            "grid_row": null,
            "grid_template_areas": null,
            "grid_template_columns": null,
            "grid_template_rows": null,
            "height": null,
            "justify_content": null,
            "justify_items": null,
            "left": null,
            "margin": null,
            "max_height": null,
            "max_width": null,
            "min_height": null,
            "min_width": null,
            "object_fit": null,
            "object_position": null,
            "order": null,
            "overflow": null,
            "overflow_x": null,
            "overflow_y": null,
            "padding": null,
            "right": null,
            "top": null,
            "visibility": null,
            "width": null
          }
        },
        "9055a38287544a348c00ecb7978e11be": {
          "model_module": "@jupyter-widgets/controls",
          "model_name": "DescriptionStyleModel",
          "model_module_version": "1.5.0",
          "state": {
            "_model_module": "@jupyter-widgets/controls",
            "_model_module_version": "1.5.0",
            "_model_name": "DescriptionStyleModel",
            "_view_count": null,
            "_view_module": "@jupyter-widgets/base",
            "_view_module_version": "1.2.0",
            "_view_name": "StyleView",
            "description_width": ""
          }
        }
      }
    }
  },
  "nbformat": 4,
  "nbformat_minor": 0
}